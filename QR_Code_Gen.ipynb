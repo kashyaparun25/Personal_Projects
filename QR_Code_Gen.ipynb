{
  "nbformat": 4,
  "nbformat_minor": 0,
  "metadata": {
    "colab": {
      "name": "QR_Code_Gen.ipynb",
      "provenance": []
    },
    "kernelspec": {
      "name": "python3",
      "display_name": "Python 3"
    },
    "language_info": {
      "name": "python"
    }
  },
  "cells": [
    {
      "cell_type": "code",
      "execution_count": 1,
      "metadata": {
        "colab": {
          "base_uri": "https://localhost:8080/"
        },
        "id": "PRrJ1-inn7dJ",
        "outputId": "5208c727-3b23-4ae1-f333-f1319498fc30"
      },
      "outputs": [
        {
          "output_type": "stream",
          "name": "stdout",
          "text": [
            "Collecting PyQRCode\n",
            "  Downloading PyQRCode-1.2.1.zip (41 kB)\n",
            "\u001b[?25l\r\u001b[K     |███████▉                        | 10 kB 28.6 MB/s eta 0:00:01\r\u001b[K     |███████████████▋                | 20 kB 28.6 MB/s eta 0:00:01\r\u001b[K     |███████████████████████▌        | 30 kB 13.1 MB/s eta 0:00:01\r\u001b[K     |███████████████████████████████▎| 40 kB 8.8 MB/s eta 0:00:01\r\u001b[K     |████████████████████████████████| 41 kB 623 kB/s \n",
            "\u001b[?25hBuilding wheels for collected packages: PyQRCode\n",
            "  Building wheel for PyQRCode (setup.py) ... \u001b[?25l\u001b[?25hdone\n",
            "  Created wheel for PyQRCode: filename=PyQRCode-1.2.1-py3-none-any.whl size=36247 sha256=30177e3d0a2a1c770aa654959117b3a10d0eb4117137fafdbd4fa74518676cab\n",
            "  Stored in directory: /root/.cache/pip/wheels/aa/14/ad/f09824edf35fdc5fd8acc01b60ff57f858f212a2d5c41dddd2\n",
            "Successfully built PyQRCode\n",
            "Installing collected packages: PyQRCode\n",
            "Successfully installed PyQRCode-1.2.1\n"
          ]
        }
      ],
      "source": [
        "pip install PyQRCode"
      ]
    },
    {
      "cell_type": "code",
      "source": [
        "pip install pypng"
      ],
      "metadata": {
        "colab": {
          "base_uri": "https://localhost:8080/"
        },
        "id": "YH1weXiUoNS8",
        "outputId": "3c36b250-e200-4e90-e1dc-4ca362695e40"
      },
      "execution_count": 2,
      "outputs": [
        {
          "output_type": "stream",
          "name": "stdout",
          "text": [
            "Collecting pypng\n",
            "  Downloading pypng-0.0.21-py3-none-any.whl (48 kB)\n",
            "\u001b[?25l\r\u001b[K     |██████▉                         | 10 kB 32.5 MB/s eta 0:00:01\r\u001b[K     |█████████████▋                  | 20 kB 25.4 MB/s eta 0:00:01\r\u001b[K     |████████████████████▍           | 30 kB 18.1 MB/s eta 0:00:01\r\u001b[K     |███████████████████████████▎    | 40 kB 15.5 MB/s eta 0:00:01\r\u001b[K     |████████████████████████████████| 48 kB 3.9 MB/s \n",
            "\u001b[?25hInstalling collected packages: pypng\n",
            "Successfully installed pypng-0.0.21\n"
          ]
        }
      ]
    },
    {
      "cell_type": "code",
      "source": [
        "import pyqrcode\n",
        "import png\n",
        "Name = \"H V Arun Kashyap\"\n",
        "qr_code = pyqrcode.create(Name)\n",
        "qr_code.png(\"name.png\", scale=5)"
      ],
      "metadata": {
        "id": "UuNWSGx5oP57"
      },
      "execution_count": 4,
      "outputs": []
    }
  ]
}